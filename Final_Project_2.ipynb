{
 "cells": [
  {
   "cell_type": "code",
   "execution_count": 1,
   "metadata": {},
   "outputs": [
    {
     "name": "stderr",
     "output_type": "stream",
     "text": [
      "Using TensorFlow backend.\n"
     ]
    }
   ],
   "source": [
    "from math import exp\n",
    "import numpy as np\n",
    "import pandas as pd\n",
    "from sklearn.linear_model import LogisticRegression\n",
    "from sklearn.tree import DecisionTreeClassifier\n",
    "from sklearn.model_selection import train_test_split\n",
    "from sklearn import preprocessing\n",
    "from sklearn.preprocessing import OneHotEncoder \n",
    "import matplotlib.pyplot as plt\n",
    "import matplotlib.image as mpimg\n",
    "from sklearn.metrics import accuracy_score\n",
    "import matplotlib.cm as cm\n",
    "\n",
    "import keras\n",
    "from keras.models import Sequential\n",
    "from keras.layers import BatchNormalization\n",
    "from keras.layers import Conv2D\n",
    "from keras.layers import MaxPooling2D\n",
    "from keras.layers import Activation\n",
    "from keras.layers import Flatten\n",
    "from keras.layers import Dropout\n",
    "from keras.layers import Dense\n",
    "from keras import datasets, layers, models\n",
    "from keras.callbacks import EarlyStopping\n",
    "from keras.preprocessing import image\n",
    "%matplotlib inline"
   ]
  },
  {
   "cell_type": "code",
   "execution_count": 2,
   "metadata": {},
   "outputs": [
    {
     "data": {
      "text/html": [
       "<div>\n",
       "<style scoped>\n",
       "    .dataframe tbody tr th:only-of-type {\n",
       "        vertical-align: middle;\n",
       "    }\n",
       "\n",
       "    .dataframe tbody tr th {\n",
       "        vertical-align: top;\n",
       "    }\n",
       "\n",
       "    .dataframe thead th {\n",
       "        text-align: right;\n",
       "    }\n",
       "</style>\n",
       "<table border=\"1\" class=\"dataframe\">\n",
       "  <thead>\n",
       "    <tr style=\"text-align: right;\">\n",
       "      <th></th>\n",
       "      <th>Name</th>\n",
       "      <th>Type1</th>\n",
       "      <th>Type2</th>\n",
       "    </tr>\n",
       "  </thead>\n",
       "  <tbody>\n",
       "    <tr>\n",
       "      <th>0</th>\n",
       "      <td>bulbasaur</td>\n",
       "      <td>Grass</td>\n",
       "      <td>Poison</td>\n",
       "    </tr>\n",
       "    <tr>\n",
       "      <th>1</th>\n",
       "      <td>ivysaur</td>\n",
       "      <td>Grass</td>\n",
       "      <td>Poison</td>\n",
       "    </tr>\n",
       "    <tr>\n",
       "      <th>2</th>\n",
       "      <td>venusaur</td>\n",
       "      <td>Grass</td>\n",
       "      <td>Poison</td>\n",
       "    </tr>\n",
       "    <tr>\n",
       "      <th>3</th>\n",
       "      <td>charmander</td>\n",
       "      <td>Fire</td>\n",
       "      <td>NaN</td>\n",
       "    </tr>\n",
       "    <tr>\n",
       "      <th>4</th>\n",
       "      <td>charmeleon</td>\n",
       "      <td>Fire</td>\n",
       "      <td>NaN</td>\n",
       "    </tr>\n",
       "  </tbody>\n",
       "</table>\n",
       "</div>"
      ],
      "text/plain": [
       "         Name  Type1   Type2\n",
       "0   bulbasaur  Grass  Poison\n",
       "1     ivysaur  Grass  Poison\n",
       "2    venusaur  Grass  Poison\n",
       "3  charmander   Fire     NaN\n",
       "4  charmeleon   Fire     NaN"
      ]
     },
     "execution_count": 2,
     "metadata": {},
     "output_type": "execute_result"
    }
   ],
   "source": [
    "dfPokemon = pd.read_csv(\"pokemon.csv\")\n",
    "dfPokemon.head()"
   ]
  },
  {
   "cell_type": "code",
   "execution_count": 3,
   "metadata": {},
   "outputs": [],
   "source": [
    "def createType(row):\n",
    "    if row['Type2']=='None':\n",
    "        return row['Type1']\n",
    "    return '-'.join([row['Type1'], row['Type2']])"
   ]
  },
  {
   "cell_type": "code",
   "execution_count": 4,
   "metadata": {},
   "outputs": [
    {
     "data": {
      "text/html": [
       "<div>\n",
       "<style scoped>\n",
       "    .dataframe tbody tr th:only-of-type {\n",
       "        vertical-align: middle;\n",
       "    }\n",
       "\n",
       "    .dataframe tbody tr th {\n",
       "        vertical-align: top;\n",
       "    }\n",
       "\n",
       "    .dataframe thead th {\n",
       "        text-align: right;\n",
       "    }\n",
       "</style>\n",
       "<table border=\"1\" class=\"dataframe\">\n",
       "  <thead>\n",
       "    <tr style=\"text-align: right;\">\n",
       "      <th></th>\n",
       "      <th>Name</th>\n",
       "      <th>Type1</th>\n",
       "      <th>Type2</th>\n",
       "      <th>Type</th>\n",
       "    </tr>\n",
       "  </thead>\n",
       "  <tbody>\n",
       "    <tr>\n",
       "      <th>0</th>\n",
       "      <td>bulbasaur</td>\n",
       "      <td>Grass</td>\n",
       "      <td>Poison</td>\n",
       "      <td>Grass-Poison</td>\n",
       "    </tr>\n",
       "    <tr>\n",
       "      <th>1</th>\n",
       "      <td>ivysaur</td>\n",
       "      <td>Grass</td>\n",
       "      <td>Poison</td>\n",
       "      <td>Grass-Poison</td>\n",
       "    </tr>\n",
       "    <tr>\n",
       "      <th>2</th>\n",
       "      <td>venusaur</td>\n",
       "      <td>Grass</td>\n",
       "      <td>Poison</td>\n",
       "      <td>Grass-Poison</td>\n",
       "    </tr>\n",
       "    <tr>\n",
       "      <th>3</th>\n",
       "      <td>charmander</td>\n",
       "      <td>Fire</td>\n",
       "      <td>None</td>\n",
       "      <td>Fire</td>\n",
       "    </tr>\n",
       "    <tr>\n",
       "      <th>4</th>\n",
       "      <td>charmeleon</td>\n",
       "      <td>Fire</td>\n",
       "      <td>None</td>\n",
       "      <td>Fire</td>\n",
       "    </tr>\n",
       "  </tbody>\n",
       "</table>\n",
       "</div>"
      ],
      "text/plain": [
       "         Name  Type1   Type2          Type\n",
       "0   bulbasaur  Grass  Poison  Grass-Poison\n",
       "1     ivysaur  Grass  Poison  Grass-Poison\n",
       "2    venusaur  Grass  Poison  Grass-Poison\n",
       "3  charmander   Fire    None          Fire\n",
       "4  charmeleon   Fire    None          Fire"
      ]
     },
     "execution_count": 4,
     "metadata": {},
     "output_type": "execute_result"
    }
   ],
   "source": [
    "dfPokemon['Type2'].fillna('None', inplace=True)\n",
    "dfPokemon['Type'] = dfPokemon.apply(lambda row: createType(row), axis=1)\n",
    "dfPokemon.head()"
   ]
  },
  {
   "cell_type": "code",
   "execution_count": 5,
   "metadata": {},
   "outputs": [
    {
     "data": {
      "text/html": [
       "<div>\n",
       "<style scoped>\n",
       "    .dataframe tbody tr th:only-of-type {\n",
       "        vertical-align: middle;\n",
       "    }\n",
       "\n",
       "    .dataframe tbody tr th {\n",
       "        vertical-align: top;\n",
       "    }\n",
       "\n",
       "    .dataframe thead th {\n",
       "        text-align: right;\n",
       "    }\n",
       "</style>\n",
       "<table border=\"1\" class=\"dataframe\">\n",
       "  <thead>\n",
       "    <tr style=\"text-align: right;\">\n",
       "      <th></th>\n",
       "      <th>Name</th>\n",
       "      <th>Type1</th>\n",
       "      <th>Type2</th>\n",
       "      <th>Type</th>\n",
       "    </tr>\n",
       "  </thead>\n",
       "  <tbody>\n",
       "    <tr>\n",
       "      <th>459</th>\n",
       "      <td>abomasnow</td>\n",
       "      <td>Grass</td>\n",
       "      <td>Ice</td>\n",
       "      <td>Grass-Ice</td>\n",
       "    </tr>\n",
       "    <tr>\n",
       "      <th>62</th>\n",
       "      <td>abra</td>\n",
       "      <td>Psychic</td>\n",
       "      <td>None</td>\n",
       "      <td>Psychic</td>\n",
       "    </tr>\n",
       "    <tr>\n",
       "      <th>358</th>\n",
       "      <td>absol</td>\n",
       "      <td>Dark</td>\n",
       "      <td>None</td>\n",
       "      <td>Dark</td>\n",
       "    </tr>\n",
       "    <tr>\n",
       "      <th>616</th>\n",
       "      <td>accelgor</td>\n",
       "      <td>Bug</td>\n",
       "      <td>None</td>\n",
       "      <td>Bug</td>\n",
       "    </tr>\n",
       "    <tr>\n",
       "      <th>680</th>\n",
       "      <td>aegislash-blade</td>\n",
       "      <td>Steel</td>\n",
       "      <td>Ghost</td>\n",
       "      <td>Steel-Ghost</td>\n",
       "    </tr>\n",
       "  </tbody>\n",
       "</table>\n",
       "</div>"
      ],
      "text/plain": [
       "                Name    Type1  Type2         Type\n",
       "459        abomasnow    Grass    Ice    Grass-Ice\n",
       "62              abra  Psychic   None      Psychic\n",
       "358            absol     Dark   None         Dark\n",
       "616         accelgor      Bug   None          Bug\n",
       "680  aegislash-blade    Steel  Ghost  Steel-Ghost"
      ]
     },
     "execution_count": 5,
     "metadata": {},
     "output_type": "execute_result"
    }
   ],
   "source": [
    "len(dfPokemon[\"Type\"].unique())\n",
    "dfPokemon = dfPokemon.sort_values('Name')\n",
    "dfPokemon.head()"
   ]
  },
  {
   "cell_type": "code",
   "execution_count": 6,
   "metadata": {},
   "outputs": [
    {
     "name": "stdout",
     "output_type": "stream",
     "text": [
      "(224, 224, 3)\n"
     ]
    },
    {
     "data": {
      "text/plain": [
       "<matplotlib.image.AxesImage at 0x24932358a90>"
      ]
     },
     "execution_count": 6,
     "metadata": {},
     "output_type": "execute_result"
    },
    {
     "data": {
      "image/png": "[encoded data removed]",
      "text/plain": [
       "<Figure size 432x288 with 1 Axes>"
      ]
     },
     "metadata": {
      "needs_background": "light"
     },
     "output_type": "display_data"
    }
   ],
   "source": [
    "#Let's take a look at some of the images and what they look like\n",
    "img = mpimg.imread('images/psyduck.png')\n",
    "print(img.shape)\n",
    "plt.imshow(img)"
   ]
  },
  {
   "cell_type": "code",
   "execution_count": 7,
   "metadata": {},
   "outputs": [],
   "source": [
    "from os import listdir\n",
    "from os.path import isfile, join\n",
    "filenames = [f for f in listdir('images') if isfile(join('images', f))]"
   ]
  },
  {
   "cell_type": "code",
   "execution_count": 8,
   "metadata": {},
   "outputs": [],
   "source": [
    "onehotencoder = OneHotEncoder() \n",
    "y = onehotencoder.fit_transform((dfPokemon['Type1'].to_numpy()).reshape(-1, 1)).toarray() "
   ]
  },
  {
   "cell_type": "code",
   "execution_count": 9,
   "metadata": {},
   "outputs": [],
   "source": [
    "def load_image(img_path, show=False):\n",
    "    img = image.load_img(img_path, target_size=(224, 224))\n",
    "    rgb_im = img.convert('RGB')\n",
    "    rgb_im.save(img_path)\n",
    "    img_tensor = image.img_to_array(rgb_im)\n",
    "    img_tensor = np.expand_dims(img_tensor, axis=0)\n",
    "    \n",
    "    if show:\n",
    "        plt.imshow(img_tensor[0]/255)\n",
    "        plt.axis('off')\n",
    "        plt.show()\n",
    "        \n",
    "    return img_tensor\n",
    "    \n",
    "data = []\n",
    "for i in filenames:\n",
    "    data.append(load_image('images/' + i))\n",
    "    \n",
    "X = data\n",
    "X_train_list, X_test_list, y_train_list, y_test_list = train_test_split(X,y, test_size = 0.25)"
   ]
  },
  {
   "cell_type": "code",
   "execution_count": 10,
   "metadata": {},
   "outputs": [],
   "source": [
    "X_test_pre = np.asarray(X_test_list, dtype=np.float32)\n",
    "y_test = np.asarray(y_test_list, dtype=np.float32)\n",
    "\n",
    "X_train_pre = np.asarray(X_train_list, dtype=np.float32)\n",
    "y_train_1 = np.asarray(y_train_list, dtype=np.float32)\n",
    "\n",
    "\n",
    "X_train_d = []\n",
    "for i in range(len(X_train_pre)):\n",
    "    X_train_d.append(X_train_pre[i][0])\n",
    "    \n",
    "X_test_d = []\n",
    "for i in range(len(X_test_pre)):\n",
    "    X_test_d.append(X_test_pre[i][0])\n",
    "    \n",
    "X_train_1 = np.asarray(X_train_d, dtype=np.float32)\n",
    "X_test = np.asarray(X_test_d, dtype=np.float32)"
   ]
  },
  {
   "cell_type": "code",
   "execution_count": 11,
   "metadata": {},
   "outputs": [],
   "source": [
    "X_train, X_valid, y_train, y_valid = train_test_split(X_train_1,y_train_1, test_size = 0.25)"
   ]
  },
  {
   "cell_type": "code",
   "execution_count": 12,
   "metadata": {
    "scrolled": false
   },
   "outputs": [],
   "source": [
    "model = models.Sequential()\n",
    "model.add(layers.Conv2D(32, (3,3), activation='relu', input_shape=X_train.shape[1:]))\n",
    "model.add(layers.MaxPooling2D((2, 2)))\n",
    "model.add(layers.Conv2D(64, (3,3), activation='relu'))\n",
    "model.add(layers.MaxPooling2D((2, 2)))\n",
    "model.add(layers.Conv2D(64, (3,3), activation='relu'))\n",
    "model.add(layers.Flatten())\n",
    "model.add(layers.Dense(64, activation='relu'))\n",
    "model.add(layers.Dense(56, activation='relu'))\n",
    "model.add(layers.Dense(18, activation='softmax', name='visualized_layer'))\n",
    "\n",
    "model.compile(optimizer='adam',\n",
    "              loss=\"categorical_crossentropy\",\n",
    "              metrics=['categorical_accuracy'])\n"
   ]
  },
  {
   "cell_type": "code",
   "execution_count": 29,
   "metadata": {},
   "outputs": [
    {
     "name": "stdout",
     "output_type": "stream",
     "text": [
      "Train on 454 samples, validate on 152 samples\n",
      "Epoch 1/100\n",
      "454/454 [==============================] - 51s 112ms/step - loss: 143.0782 - categorical_accuracy: 0.0595 - val_loss: 226.7228 - val_categorical_accuracy: 0.0658\n",
      "Epoch 2/100\n",
      "454/454 [==============================] - 37s 82ms/step - loss: 161.4245 - categorical_accuracy: 0.0991 - val_loss: 29.5528 - val_categorical_accuracy: 0.1711\n",
      "Epoch 3/100\n",
      "454/454 [==============================] - 34s 76ms/step - loss: 21.4872 - categorical_accuracy: 0.1256 - val_loss: 7.7339 - val_categorical_accuracy: 0.0329\n",
      "Epoch 4/100\n",
      "454/454 [==============================] - 37s 81ms/step - loss: 5.1987 - categorical_accuracy: 0.1278 - val_loss: 3.5534 - val_categorical_accuracy: 0.0461\n",
      "Epoch 5/100\n",
      "454/454 [==============================] - 38s 84ms/step - loss: 2.2504 - categorical_accuracy: 0.3238 - val_loss: 3.1396 - val_categorical_accuracy: 0.0987\n",
      "Epoch 6/100\n",
      "454/454 [==============================] - 35s 76ms/step - loss: 1.8501 - categorical_accuracy: 0.4956 - val_loss: 3.0231 - val_categorical_accuracy: 0.1184\n",
      "Epoch 7/100\n",
      "454/454 [==============================] - 33s 72ms/step - loss: 1.5454 - categorical_accuracy: 0.5925 - val_loss: 3.0422 - val_categorical_accuracy: 0.1316\n",
      "Epoch 8/100\n",
      "454/454 [==============================] - 33s 72ms/step - loss: 1.2904 - categorical_accuracy: 0.6784 - val_loss: 3.2961 - val_categorical_accuracy: 0.1447\n",
      "Epoch 9/100\n",
      "454/454 [==============================] - 34s 74ms/step - loss: 0.9682 - categorical_accuracy: 0.7533 - val_loss: 4.3380 - val_categorical_accuracy: 0.1579\n",
      "Epoch 10/100\n",
      "454/454 [==============================] - 33s 74ms/step - loss: 1.0129 - categorical_accuracy: 0.8062 - val_loss: 4.2427 - val_categorical_accuracy: 0.1250\n",
      "Epoch 11/100\n",
      "454/454 [==============================] - 33s 72ms/step - loss: 0.5442 - categorical_accuracy: 0.8612 - val_loss: 4.9210 - val_categorical_accuracy: 0.1316\n",
      "Epoch 12/100\n",
      "454/454 [==============================] - 34s 76ms/step - loss: 0.3824 - categorical_accuracy: 0.9141 - val_loss: 6.0039 - val_categorical_accuracy: 0.1250\n",
      "Epoch 13/100\n",
      "454/454 [==============================] - 38s 85ms/step - loss: 0.2911 - categorical_accuracy: 0.9361 - val_loss: 6.4716 - val_categorical_accuracy: 0.1382\n",
      "Epoch 14/100\n",
      "454/454 [==============================] - 38s 83ms/step - loss: 0.2358 - categorical_accuracy: 0.9471 - val_loss: 7.1072 - val_categorical_accuracy: 0.1447\n",
      "Epoch 15/100\n",
      "454/454 [==============================] - 34s 75ms/step - loss: 0.1924 - categorical_accuracy: 0.9493 - val_loss: 9.0971 - val_categorical_accuracy: 0.1184\n",
      "Epoch 16/100\n",
      "454/454 [==============================] - 33s 73ms/step - loss: 0.4258 - categorical_accuracy: 0.9383 - val_loss: 8.3524 - val_categorical_accuracy: 0.1447\n"
     ]
    },
    {
     "data": {
      "text/plain": [
       "<keras.callbacks.callbacks.History at 0x1ad1794afd0>"
      ]
     },
     "execution_count": 29,
     "metadata": {},
     "output_type": "execute_result"
    }
   ],
   "source": [
    "callback = EarlyStopping(monitor='val_loss', patience=10)\n",
    "model.fit(X_train, y_train, epochs=100, batch_size=256, callbacks=[callback], validation_data=(X_valid,y_valid))"
   ]
  },
  {
   "cell_type": "code",
   "execution_count": 31,
   "metadata": {},
   "outputs": [
    {
     "name": "stdout",
     "output_type": "stream",
     "text": [
      "203/203 [==============================] - 3s 15ms/step\n",
      "[9.244676251716802, 0.1034482792019844]\n"
     ]
    }
   ],
   "source": [
    "res = model.evaluate(X_test, y_test)"
   ]
  },
  {
   "cell_type": "code",
   "execution_count": null,
   "metadata": {},
   "outputs": [],
   "source": []
  },
  {
   "cell_type": "code",
   "execution_count": 32,
   "metadata": {},
   "outputs": [
    {
     "data": {
      "text/plain": [
       "array(['Poison'], dtype=object)"
      ]
     },
     "execution_count": 32,
     "metadata": {},
     "output_type": "execute_result"
    }
   ],
   "source": [
    "squirtle_prediction = model.predict(load_image('images/squirtle.png'))\n",
    "types = dfPokemon[\"Type1\"].to_numpy()\n",
    "max_index = np.where(squirtle_prediction[0] == np.amax(squirtle_prediction[0]))\n",
    "\n",
    "types[max_index]"
   ]
  },
  {
   "cell_type": "code",
   "execution_count": 33,
   "metadata": {},
   "outputs": [
    {
     "data": {
      "text/plain": [
       "array(['Electric'], dtype=object)"
      ]
     },
     "execution_count": 33,
     "metadata": {},
     "output_type": "execute_result"
    }
   ],
   "source": [
    "charmander_prediction = model.predict(load_image('images/charmander.png'))\n",
    "types = dfPokemon[\"Type1\"].to_numpy()\n",
    "max_index = np.where(charmander_prediction[0] == np.amax(charmander_prediction[0]))\n",
    "\n",
    "types[max_index]"
   ]
  },
  {
   "cell_type": "code",
   "execution_count": 35,
   "metadata": {},
   "outputs": [],
   "source": [
    "from vis.visualization import visualize_cam, overlay\n",
    "from vis.utils import utils\n",
    "from keras import activations\n",
    "from vis.visualization import visualize_activation\n",
    "    \n",
    "\n",
    "layer_index = utils.find_layer_idx(model, 'visualized_layer')\n",
    "model.layers[layer_index].activation = activations.linear\n",
    "model = utils.apply_modifications(model)  \n",
    "img = visualize_activation(model, layer_index, filter_indices=layer_index)\n",
    "\n",
    "indices_to_visualize = [ 0, 12, 38 ]"
   ]
  },
  {
   "cell_type": "code",
   "execution_count": 38,
   "metadata": {},
   "outputs": [
    {
     "data": {
      "text/plain": [
       "Text(0.5, 1.0, 'Grad-CAM')"
      ]
     },
     "execution_count": 38,
     "metadata": {},
     "output_type": "execute_result"
    },
    {
     "data": {
      "image/png": "[encoded data removed]",
      "text/plain": [
       "<Figure size 432x288 with 2 Axes>"
      ]
     },
     "metadata": {
      "needs_background": "light"
     },
     "output_type": "display_data"
    }
   ],
   "source": [
    "fig, axes = plt.subplots(1, 2)\n",
    "axes[0].imshow(X_train[2]/255, cmap='gray') \n",
    "axes[0].set_title('Input')\n",
    "axes[1].imshow(img[..., 2])\n",
    "axes[1].set_title('Grad-CAM')"
   ]
  },
  {
   "cell_type": "code",
   "execution_count": 60,
   "metadata": {},
   "outputs": [],
   "source": [
    "model2 = models.Sequential()\n",
    "model2.add(layers.Conv2D(32, (3, 3), activation='relu',input_shape=X_train.shape[1:]))\n",
    "model2.add(layers.MaxPooling2D((2, 2)))\n",
    "model2.add(layers.Conv2D(64, (3, 3), activation='relu'))\n",
    "model2.add(layers.MaxPooling2D((2, 2)))\n",
    "model2.add(layers.Conv2D(128, (3, 3), activation='relu'))\n",
    "model2.add(layers.MaxPooling2D((2, 2)))\n",
    "model2.add(layers.Conv2D(128, (3, 3), activation='relu'))\n",
    "model2.add(layers.MaxPooling2D((2, 2)))\n",
    "model2.add(layers.Flatten())\n",
    "model2.add(layers.Dropout(0.5))  #Dropout for regularization\n",
    "model2.add(layers.Dense(512, activation='relu'))\n",
    "model2.add(layers.Dense(1, activation='sigmoid'))"
   ]
  },
  {
   "cell_type": "code",
   "execution_count": 62,
   "metadata": {},
   "outputs": [
    {
     "name": "stdout",
     "output_type": "stream",
     "text": [
      "Model: \"sequential_2\"\n",
      "_________________________________________________________________\n",
      "Layer (type)                 Output Shape              Param #   \n",
      "=================================================================\n",
      "conv2d_4 (Conv2D)            (None, 222, 222, 32)      896       \n",
      "_________________________________________________________________\n",
      "max_pooling2d_3 (MaxPooling2 (None, 111, 111, 32)      0         \n",
      "_________________________________________________________________\n",
      "conv2d_5 (Conv2D)            (None, 109, 109, 64)      18496     \n",
      "_________________________________________________________________\n",
      "max_pooling2d_4 (MaxPooling2 (None, 54, 54, 64)        0         \n",
      "_________________________________________________________________\n",
      "conv2d_6 (Conv2D)            (None, 52, 52, 128)       73856     \n",
      "_________________________________________________________________\n",
      "max_pooling2d_5 (MaxPooling2 (None, 26, 26, 128)       0         \n",
      "_________________________________________________________________\n",
      "conv2d_7 (Conv2D)            (None, 24, 24, 128)       147584    \n",
      "_________________________________________________________________\n",
      "max_pooling2d_6 (MaxPooling2 (None, 12, 12, 128)       0         \n",
      "_________________________________________________________________\n",
      "flatten_2 (Flatten)          (None, 18432)             0         \n",
      "_________________________________________________________________\n",
      "dropout_1 (Dropout)          (None, 18432)             0         \n",
      "_________________________________________________________________\n",
      "dense_3 (Dense)              (None, 512)               9437696   \n",
      "_________________________________________________________________\n",
      "dense_4 (Dense)              (None, 1)                 513       \n",
      "=================================================================\n",
      "Total params: 9,679,041\n",
      "Trainable params: 9,679,041\n",
      "Non-trainable params: 0\n",
      "_________________________________________________________________\n"
     ]
    }
   ],
   "source": [
    "model2.summary()"
   ]
  },
  {
   "cell_type": "code",
   "execution_count": 14,
   "metadata": {},
   "outputs": [],
   "source": [
    "def algorithm_pipeline(X_train_data, X_test_data, y_train_data, y_test_data, \n",
    "                       model, param_grid, cv=10,\n",
    "                       do_probabilities = False):\n",
    "    gs = GridSearchCV(\n",
    "        estimator=model,\n",
    "        param_grid=param_grid, \n",
    "        cv=cv, \n",
    "        n_jobs=-1, \n",
    "        verbose=2,\n",
    "    )\n",
    "    fitted_model = gs.fit(X_train_data, y_train_data)\n",
    "\n",
    "    if do_probabilities:\n",
    "        pred = fitted_model.predict_proba(X_test_data)\n",
    "    else:\n",
    "        pred = fitted_model.predict(X_test_data)\n",
    "\n",
    "    return fitted_model, pred"
   ]
  },
  {
   "cell_type": "code",
   "execution_count": 15,
   "metadata": {},
   "outputs": [],
   "source": [
    "def build_cnn(activation = 'relu',\n",
    "              dropout_rate = 0.2,\n",
    "              optimizer = 'Adam'):\n",
    "    model = models.Sequential()\n",
    "    model.add(layers.Conv2D(32, (3,3), activation='relu', input_shape=X_train.shape[1:]))\n",
    "    model.add(layers.MaxPooling2D((2, 2)))\n",
    "    model.add(layers.Conv2D(64, (3,3), activation='relu'))\n",
    "    model.add(layers.MaxPooling2D((2, 2)))\n",
    "    model.add(layers.Conv2D(64, (3,3), activation='relu'))\n",
    "    model.add(layers.Flatten())\n",
    "    model.add(layers.Dense(64, activation='relu'))\n",
    "    model.add(layers.Dense(56, activation='relu'))\n",
    "    model.add(layers.Dense(18, activation='softmax', name='visualized_layer'))\n",
    "\n",
    "    model.compile(\n",
    "        loss='categorical_crossentropy', \n",
    "        optimizer=optimizer, \n",
    "        metrics=['accuracy']\n",
    "    )\n",
    "    \n",
    "    return model"
   ]
  },
  {
   "cell_type": "code",
   "execution_count": 16,
   "metadata": {
    "scrolled": true
   },
   "outputs": [
    {
     "name": "stdout",
     "output_type": "stream",
     "text": [
      "Fitting 5 folds for each of 12 candidates, totalling 60 fits\n"
     ]
    },
    {
     "name": "stderr",
     "output_type": "stream",
     "text": [
      "[Parallel(n_jobs=-1)]: Using backend LokyBackend with 4 concurrent workers.\n",
      "[Parallel(n_jobs=-1)]: Done  33 tasks      | elapsed: 45.5min\n",
      "[Parallel(n_jobs=-1)]: Done  60 out of  60 | elapsed: 113.8min finished\n"
     ]
    },
    {
     "name": "stdout",
     "output_type": "stream",
     "text": [
      "0.10786325186491012\n",
      "{'activation': 'elu', 'batch_size': 32, 'epochs': 3}\n"
     ]
    }
   ],
   "source": [
    "from keras.wrappers.scikit_learn import KerasClassifier\n",
    "from sklearn.model_selection import GridSearchCV\n",
    "\n",
    "param_grid = {\n",
    "              'epochs':[1, 3, 5],\n",
    "              'batch_size':[32, 128],\n",
    "#               'epochs': [100,150,200],\n",
    "#               'batch_size' : [32, 128],\n",
    "#               'optimizer' : ['Adam', 'Nadam'],\n",
    "#               'dropout_rate' : [0.2, 0.3],\n",
    "              'activation' :['relu', 'elu']\n",
    "             }\n",
    "\n",
    "model = KerasClassifier(build_fn = build_cnn, verbose=0)\n",
    "\n",
    "model, pred = algorithm_pipeline(X_train, X_test, y_train, y_test, model, \n",
    "                                        param_grid, cv=5)\n",
    "\n",
    "print(model.best_score_)\n",
    "print(model.best_params_)"
   ]
  },
  {
   "cell_type": "code",
   "execution_count": 17,
   "metadata": {},
   "outputs": [
    {
     "name": "stdout",
     "output_type": "stream",
     "text": [
      "0.10786325186491012\n",
      "{'activation': 'elu', 'batch_size': 32, 'epochs': 3}\n"
     ]
    }
   ],
   "source": [
    "print(model.best_score_)\n",
    "print(model.best_params_)\n"
   ]
  },
  {
   "cell_type": "code",
   "execution_count": null,
   "metadata": {},
   "outputs": [],
   "source": []
  }
 ],
 "metadata": {
  "kernelspec": {
   "display_name": "Python 3",
   "language": "python",
   "name": "python3"
  },
  "language_info": {
   "codemirror_mode": {
    "name": "ipython",
    "version": 3
   },
   "file_extension": ".py",
   "mimetype": "text/x-python",
   "name": "python",
   "nbconvert_exporter": "python",
   "pygments_lexer": "ipython3",
   "version": "3.7.2"
  }
 },
 "nbformat": 4,
 "nbformat_minor": 4
}
